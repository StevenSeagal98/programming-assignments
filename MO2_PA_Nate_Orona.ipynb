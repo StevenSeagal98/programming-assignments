{
 "cells": [
  {
   "cell_type": "markdown",
   "id": "b49b1f0e",
   "metadata": {},
   "source": [
    "<h1>4.1</h1>"
   ]
  },
  {
   "cell_type": "code",
   "execution_count": 4,
   "id": "6136e885",
   "metadata": {},
   "outputs": [
    {
     "name": "stdout",
     "output_type": "stream",
     "text": [
      "too low\n"
     ]
    }
   ],
   "source": [
    "secret = 3;\n",
    "guess = 2;\n",
    "if secret == guess:\n",
    "    print('just right')\n",
    "elif secret < guess:\n",
    "    print('too high')\n",
    "else:\n",
    "    print('too low')"
   ]
  },
  {
   "cell_type": "markdown",
   "id": "342d7740",
   "metadata": {},
   "source": [
    "<h1>4.2</h1>"
   ]
  },
  {
   "cell_type": "code",
   "execution_count": 7,
   "id": "31be0dfd",
   "metadata": {},
   "outputs": [
    {
     "name": "stdout",
     "output_type": "stream",
     "text": [
      "cherry\n"
     ]
    }
   ],
   "source": [
    "small = True;\n",
    "green = False;\n",
    "\n",
    "if(small):\n",
    "    if(green):\n",
    "        print('pea');\n",
    "    else:\n",
    "        print('cherry')\n",
    "else:\n",
    "    if(green):\n",
    "        print('watermelon')\n",
    "    else:\n",
    "        print('pumpkin')"
   ]
  },
  {
   "cell_type": "markdown",
   "id": "43b4bf42",
   "metadata": {},
   "source": [
    "<h1>6.1</h1>"
   ]
  },
  {
   "cell_type": "code",
   "execution_count": 8,
   "id": "e193b174",
   "metadata": {},
   "outputs": [
    {
     "name": "stdout",
     "output_type": "stream",
     "text": [
      "3\n",
      "2\n",
      "1\n",
      "0\n"
     ]
    }
   ],
   "source": [
    "nums = [3,2,1,0];\n",
    "for num in nums:\n",
    "    print(num)"
   ]
  },
  {
   "cell_type": "markdown",
   "id": "162952cf",
   "metadata": {},
   "source": [
    "<h1>6.2</h1>"
   ]
  },
  {
   "cell_type": "code",
   "execution_count": 11,
   "id": "fe89e415",
   "metadata": {},
   "outputs": [
    {
     "name": "stdout",
     "output_type": "stream",
     "text": [
      "too low\n",
      "too low\n",
      "too low\n",
      "too low\n",
      "too low\n",
      "too low\n",
      "found it!\n"
     ]
    }
   ],
   "source": [
    "guess_me = 7;\n",
    "number = 1;\n",
    "\n",
    "while (number <= guess_me):\n",
    "    if (number == guess_me):\n",
    "        print('found it!');\n",
    "        break;\n",
    "    elif (number > guess_me):\n",
    "        print('oops');\n",
    "        break;\n",
    "    else:\n",
    "        print('too low');\n",
    "    number += 1;"
   ]
  },
  {
   "cell_type": "markdown",
   "id": "49908c5b",
   "metadata": {},
   "source": [
    "<h1>6.3</h1>"
   ]
  },
  {
   "cell_type": "code",
   "execution_count": 14,
   "id": "bd80217c",
   "metadata": {},
   "outputs": [
    {
     "name": "stdout",
     "output_type": "stream",
     "text": [
      "too low\n",
      "too low\n",
      "too low\n",
      "too low\n",
      "too low\n",
      "found it!\n"
     ]
    }
   ],
   "source": [
    "guess_me = 5;\n",
    "\n",
    "for number in range(10):\n",
    "    if(number < guess_me):\n",
    "        print('too low');\n",
    "    elif(number == guess_me):\n",
    "        print('found it!')\n",
    "        break;\n",
    "    else:\n",
    "        print('oops')\n",
    "        break;"
   ]
  },
  {
   "cell_type": "code",
   "execution_count": null,
   "id": "ed849a73",
   "metadata": {},
   "outputs": [],
   "source": []
  }
 ],
 "metadata": {
  "kernelspec": {
   "display_name": "Python 3 (ipykernel)",
   "language": "python",
   "name": "python3"
  },
  "language_info": {
   "codemirror_mode": {
    "name": "ipython",
    "version": 3
   },
   "file_extension": ".py",
   "mimetype": "text/x-python",
   "name": "python",
   "nbconvert_exporter": "python",
   "pygments_lexer": "ipython3",
   "version": "3.9.5"
  }
 },
 "nbformat": 4,
 "nbformat_minor": 5
}
